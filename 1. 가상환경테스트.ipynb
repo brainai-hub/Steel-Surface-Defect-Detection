{
 "cells": [
  {
   "cell_type": "markdown",
   "id": "7132d4f7-35f1-4a9a-aecf-e72262e9fbd8",
   "metadata": {},
   "source": [
    "### 1. AI 프로젝트에 필요한 라이브러리 불러기기"
   ]
  },
  {
   "cell_type": "code",
   "execution_count": 1,
   "id": "2dddabe7-c953-4a0e-ab39-f8bb034d4c23",
   "metadata": {},
   "outputs": [],
   "source": [
    "from ultralytics import YOLO\n",
    "import cv2\n",
    "\n",
    "import time\n",
    "import serial\n",
    "import serial.tools.list_ports\n",
    "import sys"
   ]
  }
 ],
 "metadata": {
  "kernelspec": {
   "display_name": "Python 3 (ipykernel)",
   "language": "python",
   "name": "python3"
  },
  "language_info": {
   "codemirror_mode": {
    "name": "ipython",
    "version": 3
   },
   "file_extension": ".py",
   "mimetype": "text/x-python",
   "name": "python",
   "nbconvert_exporter": "python",
   "pygments_lexer": "ipython3",
   "version": "3.11.8"
  }
 },
 "nbformat": 4,
 "nbformat_minor": 5
}
