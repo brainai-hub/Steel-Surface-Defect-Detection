{
 "cells": [
  {
   "cell_type": "markdown",
   "id": "cf0d3286-2020-43db-bd32-5d1bbcc33f39",
   "metadata": {},
   "source": [
    "### 1. AI 프로젝트에 필요한 라이브러리 불러기기"
   ]
  },
  {
   "cell_type": "code",
   "execution_count": 1,
   "id": "c32870d3-0f94-4471-9431-6d8357b696c1",
   "metadata": {},
   "outputs": [],
   "source": [
    "from ultralytics import YOLO\n",
    "import cv2"
   ]
  },
  {
   "cell_type": "markdown",
   "id": "198e3b98-6604-481c-b37f-6836f4e9a35a",
   "metadata": {},
   "source": [
    "### 2. 모델 로드"
   ]
  },
  {
   "cell_type": "code",
   "execution_count": 2,
   "id": "6572a73d-679b-4178-8302-35494cd01bcb",
   "metadata": {},
   "outputs": [],
   "source": [
    "model = YOLO(\"gc10-det_openvino_model/\", task = \"detect\")"
   ]
  },
  {
   "cell_type": "markdown",
   "id": "17d018ce-8e57-4767-a323-444451599b8d",
   "metadata": {},
   "source": [
    "### 3. 모델 실행 "
   ]
  },
  {
   "cell_type": "code",
   "execution_count": 3,
   "id": "4cba9683-78cb-4b1b-9c8a-6ec3999020f1",
   "metadata": {},
   "outputs": [
    {
     "name": "stdout",
     "output_type": "stream",
     "text": [
      "Loading gc10-det_openvino_model for OpenVINO inference...\n",
      "Using OpenVINO LATENCY mode for batch=1 inference...\n"
     ]
    }
   ],
   "source": [
    "img = cv2.imread(\"data/test_origin (2).jpg\")\n",
    "results = model(img, verbose = False, conf = .75)"
   ]
  },
  {
   "cell_type": "markdown",
   "id": "789053f2-f01e-49aa-8e21-17ec2d34e3a1",
   "metadata": {},
   "source": [
    "### 4. 이미지 표시"
   ]
  },
  {
   "cell_type": "code",
   "execution_count": 4,
   "id": "a0165da2-6691-4c35-a242-973ca756441f",
   "metadata": {},
   "outputs": [],
   "source": [
    "img = results[0].plot()\n",
    "img = cv2.resize(img, (1024, 768))\n",
    "\n",
    "cv2.imshow(\"Quality Control\", img)\n",
    "cv2.waitKey(0)\n",
    "cv2.destroyAllWindows()"
   ]
  },
  {
   "cell_type": "code",
   "execution_count": null,
   "id": "bb746b30-5b5b-4a47-8374-db04eaf2482b",
   "metadata": {},
   "outputs": [],
   "source": []
  }
 ],
 "metadata": {
  "kernelspec": {
   "display_name": "Python 3 (ipykernel)",
   "language": "python",
   "name": "python3"
  },
  "language_info": {
   "codemirror_mode": {
    "name": "ipython",
    "version": 3
   },
   "file_extension": ".py",
   "mimetype": "text/x-python",
   "name": "python",
   "nbconvert_exporter": "python",
   "pygments_lexer": "ipython3",
   "version": "3.11.8"
  }
 },
 "nbformat": 4,
 "nbformat_minor": 5
}
