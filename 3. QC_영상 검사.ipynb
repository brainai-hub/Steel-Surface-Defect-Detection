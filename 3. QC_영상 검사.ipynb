{
 "cells": [
  {
   "cell_type": "markdown",
   "id": "4352e7e2-4ba3-4dd5-ad8f-d7a1737f0883",
   "metadata": {},
   "source": [
    "### 1. AI 프로젝트에 필요한 라이브러리 불러기기"
   ]
  },
  {
   "cell_type": "code",
   "execution_count": 1,
   "id": "617c2998-2db8-4b2b-b099-eacff9633fc5",
   "metadata": {},
   "outputs": [],
   "source": [
    "from ultralytics import YOLO\n",
    "import cv2\n",
    "import time"
   ]
  },
  {
   "cell_type": "markdown",
   "id": "b5da7a76-b967-486f-9822-011068c69f00",
   "metadata": {},
   "source": [
    "### 2. 모델 로드"
   ]
  },
  {
   "cell_type": "code",
   "execution_count": 2,
   "id": "c6a9e1f1-7cd9-4ffc-8cfa-fe4162ae40c2",
   "metadata": {},
   "outputs": [],
   "source": [
    "model = YOLO(\"gc10-det_openvino_model\", task = \"detect\")"
   ]
  },
  {
   "cell_type": "markdown",
   "id": "970b4bf2-6ea1-41e0-a3da-d31f59a42163",
   "metadata": {},
   "source": [
    "### 3. 모델 실행 "
   ]
  },
  {
   "cell_type": "code",
   "execution_count": 3,
   "id": "8cb10f7a-85f9-4a9e-a073-b2c439c61c42",
   "metadata": {},
   "outputs": [],
   "source": [
    "def Main():\n",
    "    camera = cv2.VideoCapture(source)\n",
    "    bg = cv2.imread('data/background.jpg')\n",
    "    color = (0, 255, 0)\n",
    "    tic = time.time()\n",
    "\n",
    "    while(True):\n",
    "        ret, frame = camera.read()\n",
    "        if not ret:\n",
    "            break\n",
    "\n",
    "        results = model(frame, verbose = False, conf = .45)\n",
    "        output_image = results[0].plot()\n",
    "        output_image = cv2.resize(output_image, (1024, 500))\n",
    "\n",
    "        if len(results[0].boxes.cls) > 0:\n",
    "            color = (0, 0, 255)\n",
    "        else:\n",
    "            color = (0, 255, 0)\n",
    "\n",
    "        if time.time()-tic>1:\n",
    "            tic=time.time()\n",
    "\n",
    "        cv2.namedWindow(\"Quality Control\", cv2.WINDOW_NORMAL)\n",
    "        cv2.setWindowProperty(\"Quality Control\", cv2.WND_PROP_FULLSCREEN, cv2.WINDOW_FULLSCREEN)\n",
    "\n",
    "        bg[20:520, 130:1154] = output_image\n",
    "        cv2.rectangle(bg, (130, 20), (1154, 520), color, 15)\n",
    "        cv2.imshow(\"Quality Control\", bg)\n",
    "\n",
    "        if cv2.waitKey(1) & 0xff == ord(' '):\n",
    "            break\n",
    " \n",
    "    camera.release()\n",
    "    cv2.destroyAllWindows()"
   ]
  },
  {
   "cell_type": "code",
   "execution_count": 4,
   "id": "7b270719-8a8e-4807-9039-31fa9fe0b430",
   "metadata": {},
   "outputs": [
    {
     "name": "stdout",
     "output_type": "stream",
     "text": [
      "Loading gc10-det_openvino_model for OpenVINO inference...\n",
      "Using OpenVINO LATENCY mode for batch=1 inference...\n"
     ]
    }
   ],
   "source": [
    "source = \"data/test.mp4\"\n",
    "#source = 0\n",
    "if __name__ == '__main__':\n",
    "    Main()"
   ]
  },
  {
   "cell_type": "code",
   "execution_count": null,
   "id": "5192bdca-1cc9-4338-9de9-4b2d7cc47a78",
   "metadata": {},
   "outputs": [],
   "source": []
  }
 ],
 "metadata": {
  "kernelspec": {
   "display_name": "Python 3 (ipykernel)",
   "language": "python",
   "name": "python3"
  },
  "language_info": {
   "codemirror_mode": {
    "name": "ipython",
    "version": 3
   },
   "file_extension": ".py",
   "mimetype": "text/x-python",
   "name": "python",
   "nbconvert_exporter": "python",
   "pygments_lexer": "ipython3",
   "version": "3.11.8"
  }
 },
 "nbformat": 4,
 "nbformat_minor": 5
}
