{
 "cells": [
  {
   "cell_type": "code",
   "execution_count": 1,
   "id": "617c2998-2db8-4b2b-b099-eacff9633fc5",
   "metadata": {},
   "outputs": [],
   "source": [
    "from ultralytics import YOLO\n",
    "import cv2\n",
    "\n",
    "import time\n",
    "import serial\n",
    "import serial.tools.list_ports\n",
    "import sys"
   ]
  },
  {
   "cell_type": "code",
   "execution_count": 2,
   "id": "c6a9e1f1-7cd9-4ffc-8cfa-fe4162ae40c2",
   "metadata": {},
   "outputs": [],
   "source": [
    "model = YOLO(\"gc10-det_openvino_model\", task = \"detect\")"
   ]
  },
  {
   "cell_type": "code",
   "execution_count": 3,
   "id": "6b4e724a-639b-48b3-96ca-dc1391b98b0c",
   "metadata": {},
   "outputs": [],
   "source": [
    "def startSerial():\n",
    "    ser = None\n",
    "    ports = serial.tools.list_ports.comports()\n",
    "    for port, desc, hwid in sorted(ports):\n",
    "        if 'USB' in desc:\n",
    "            print('Microbit USB detected: ', port)\n",
    "            ser = serial.Serial(port, 115200, timeout = 0, parity=serial.PARITY_NONE, rtscts=0)\n",
    "    return ser\n",
    "\n",
    "def SerialSendCommand(cmd, ser):\n",
    "    if ser is not None:\n",
    "        cmd = str(cmd)\n",
    "        cmd = cmd + '\\n'\n",
    "        cmd = str.encode(cmd)\n",
    "        ser.write(cmd)"
   ]
  },
  {
   "cell_type": "code",
   "execution_count": 4,
   "id": "8cb10f7a-85f9-4a9e-a073-b2c439c61c42",
   "metadata": {},
   "outputs": [],
   "source": [
    "def Main():\n",
    "    camera = cv2.VideoCapture(source)\n",
    "    bg = cv2.imread('data/background.jpg')\n",
    "    color = (0, 255, 0)\n",
    "    ser = startSerial()\n",
    "    tic = time.time()\n",
    "\n",
    "    while(True):\n",
    "        ret, frame = camera.read()\n",
    "        if not ret:\n",
    "            break\n",
    "\n",
    "        results = model(frame, verbose = False, conf = .45)\n",
    "        output_image = results[0].plot()\n",
    "        output_image = cv2.resize(output_image, (1024, 500))\n",
    "\n",
    "        if len(results[0].boxes.cls) > 0:\n",
    "            color = (0, 0, 255)\n",
    "            cmd = 1\n",
    "        else:\n",
    "            color = (0, 255, 0)\n",
    "            cmd = 0\n",
    "\n",
    "        if time.time()-tic>1:\n",
    "            tic=time.time()\n",
    "            SerialSendCommand(cmd,ser)\n",
    "\n",
    "        cv2.namedWindow(\"Quality Control\", cv2.WINDOW_NORMAL)\n",
    "        cv2.setWindowProperty(\"Quality Control\", cv2.WND_PROP_FULLSCREEN, cv2.WINDOW_FULLSCREEN)\n",
    "        bg[20:520, 130:1154] = output_image\n",
    "        cv2.rectangle(bg, (130, 20), (1154, 520), color, 2)\n",
    "        cv2.imshow(\"Quality Control\", bg)\n",
    "\n",
    "        if cv2.waitKey(1) & 0xff == ord(' '):\n",
    "            break\n",
    "\n",
    "    if ser is not None:\n",
    "        ser.close()\n",
    " \n",
    "    camera.release()\n",
    "    cv2.destroyAllWindows()"
   ]
  },
  {
   "cell_type": "code",
   "execution_count": 6,
   "id": "7b270719-8a8e-4807-9039-31fa9fe0b430",
   "metadata": {},
   "outputs": [
    {
     "name": "stdout",
     "output_type": "stream",
     "text": [
      "Microbit USB detected:  COM3\n"
     ]
    }
   ],
   "source": [
    "source = \"data/test.mp4\"\n",
    "if __name__ == '__main__':\n",
    "    Main()"
   ]
  },
  {
   "cell_type": "code",
   "execution_count": null,
   "id": "87d5a103-3ff9-44df-95a8-65a2aabe5616",
   "metadata": {},
   "outputs": [],
   "source": []
  }
 ],
 "metadata": {
  "kernelspec": {
   "display_name": "Python 3 (ipykernel)",
   "language": "python",
   "name": "python3"
  },
  "language_info": {
   "codemirror_mode": {
    "name": "ipython",
    "version": 3
   },
   "file_extension": ".py",
   "mimetype": "text/x-python",
   "name": "python",
   "nbconvert_exporter": "python",
   "pygments_lexer": "ipython3",
   "version": "3.11.8"
  }
 },
 "nbformat": 4,
 "nbformat_minor": 5
}
